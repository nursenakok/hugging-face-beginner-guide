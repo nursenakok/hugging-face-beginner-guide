{
  "nbformat": 4,
  "nbformat_minor": 0,
  "metadata": {
    "colab": {
      "provenance": [],
      "authorship_tag": "ABX9TyNS7I39aZOVgcecNjCsEx/s",
      "include_colab_link": true
    },
    "kernelspec": {
      "name": "python3",
      "display_name": "Python 3"
    },
    "language_info": {
      "name": "python"
    },
    "widgets": {
      "application/vnd.jupyter.widget-state+json": {
        "a221faf77fb64803a71fa64a550dbcdb": {
          "model_module": "@jupyter-widgets/controls",
          "model_name": "HBoxModel",
          "model_module_version": "1.5.0",
          "state": {
            "_dom_classes": [],
            "_model_module": "@jupyter-widgets/controls",
            "_model_module_version": "1.5.0",
            "_model_name": "HBoxModel",
            "_view_count": null,
            "_view_module": "@jupyter-widgets/controls",
            "_view_module_version": "1.5.0",
            "_view_name": "HBoxView",
            "box_style": "",
            "children": [
              "IPY_MODEL_f5f7b815176d4f47b36c16217114a1d6",
              "IPY_MODEL_1c4786d02b4c47f58d854ff66270cef1",
              "IPY_MODEL_97b0f549afe647d18538b2083204523d"
            ],
            "layout": "IPY_MODEL_b11c8171278f4a3080f60d7cafc67e8d"
          }
        },
        "f5f7b815176d4f47b36c16217114a1d6": {
          "model_module": "@jupyter-widgets/controls",
          "model_name": "HTMLModel",
          "model_module_version": "1.5.0",
          "state": {
            "_dom_classes": [],
            "_model_module": "@jupyter-widgets/controls",
            "_model_module_version": "1.5.0",
            "_model_name": "HTMLModel",
            "_view_count": null,
            "_view_module": "@jupyter-widgets/controls",
            "_view_module_version": "1.5.0",
            "_view_name": "HTMLView",
            "description": "",
            "description_tooltip": null,
            "layout": "IPY_MODEL_6cfc8fd95bd048b0a620b891bb376da2",
            "placeholder": "​",
            "style": "IPY_MODEL_0adb40baa9b74297b7b18e31d3105e20",
            "value": "Fetching 0 files: "
          }
        },
        "1c4786d02b4c47f58d854ff66270cef1": {
          "model_module": "@jupyter-widgets/controls",
          "model_name": "FloatProgressModel",
          "model_module_version": "1.5.0",
          "state": {
            "_dom_classes": [],
            "_model_module": "@jupyter-widgets/controls",
            "_model_module_version": "1.5.0",
            "_model_name": "FloatProgressModel",
            "_view_count": null,
            "_view_module": "@jupyter-widgets/controls",
            "_view_module_version": "1.5.0",
            "_view_name": "ProgressView",
            "bar_style": "success",
            "description": "",
            "description_tooltip": null,
            "layout": "IPY_MODEL_02d00aca3aaa4dbfae0040462e0818b2",
            "max": 1,
            "min": 0,
            "orientation": "horizontal",
            "style": "IPY_MODEL_2c8622a620fb4c899b2903b48c643dd5",
            "value": 0
          }
        },
        "97b0f549afe647d18538b2083204523d": {
          "model_module": "@jupyter-widgets/controls",
          "model_name": "HTMLModel",
          "model_module_version": "1.5.0",
          "state": {
            "_dom_classes": [],
            "_model_module": "@jupyter-widgets/controls",
            "_model_module_version": "1.5.0",
            "_model_name": "HTMLModel",
            "_view_count": null,
            "_view_module": "@jupyter-widgets/controls",
            "_view_module_version": "1.5.0",
            "_view_name": "HTMLView",
            "description": "",
            "description_tooltip": null,
            "layout": "IPY_MODEL_a52caf3c94f0483c916aa67f4f5b10d4",
            "placeholder": "​",
            "style": "IPY_MODEL_42b586ce0687422eada4586a59a09fdf",
            "value": " 0/0 [00:00&lt;?, ?it/s]"
          }
        },
        "b11c8171278f4a3080f60d7cafc67e8d": {
          "model_module": "@jupyter-widgets/base",
          "model_name": "LayoutModel",
          "model_module_version": "1.2.0",
          "state": {
            "_model_module": "@jupyter-widgets/base",
            "_model_module_version": "1.2.0",
            "_model_name": "LayoutModel",
            "_view_count": null,
            "_view_module": "@jupyter-widgets/base",
            "_view_module_version": "1.2.0",
            "_view_name": "LayoutView",
            "align_content": null,
            "align_items": null,
            "align_self": null,
            "border": null,
            "bottom": null,
            "display": null,
            "flex": null,
            "flex_flow": null,
            "grid_area": null,
            "grid_auto_columns": null,
            "grid_auto_flow": null,
            "grid_auto_rows": null,
            "grid_column": null,
            "grid_gap": null,
            "grid_row": null,
            "grid_template_areas": null,
            "grid_template_columns": null,
            "grid_template_rows": null,
            "height": null,
            "justify_content": null,
            "justify_items": null,
            "left": null,
            "margin": null,
            "max_height": null,
            "max_width": null,
            "min_height": null,
            "min_width": null,
            "object_fit": null,
            "object_position": null,
            "order": null,
            "overflow": null,
            "overflow_x": null,
            "overflow_y": null,
            "padding": null,
            "right": null,
            "top": null,
            "visibility": null,
            "width": null
          }
        },
        "6cfc8fd95bd048b0a620b891bb376da2": {
          "model_module": "@jupyter-widgets/base",
          "model_name": "LayoutModel",
          "model_module_version": "1.2.0",
          "state": {
            "_model_module": "@jupyter-widgets/base",
            "_model_module_version": "1.2.0",
            "_model_name": "LayoutModel",
            "_view_count": null,
            "_view_module": "@jupyter-widgets/base",
            "_view_module_version": "1.2.0",
            "_view_name": "LayoutView",
            "align_content": null,
            "align_items": null,
            "align_self": null,
            "border": null,
            "bottom": null,
            "display": null,
            "flex": null,
            "flex_flow": null,
            "grid_area": null,
            "grid_auto_columns": null,
            "grid_auto_flow": null,
            "grid_auto_rows": null,
            "grid_column": null,
            "grid_gap": null,
            "grid_row": null,
            "grid_template_areas": null,
            "grid_template_columns": null,
            "grid_template_rows": null,
            "height": null,
            "justify_content": null,
            "justify_items": null,
            "left": null,
            "margin": null,
            "max_height": null,
            "max_width": null,
            "min_height": null,
            "min_width": null,
            "object_fit": null,
            "object_position": null,
            "order": null,
            "overflow": null,
            "overflow_x": null,
            "overflow_y": null,
            "padding": null,
            "right": null,
            "top": null,
            "visibility": null,
            "width": null
          }
        },
        "0adb40baa9b74297b7b18e31d3105e20": {
          "model_module": "@jupyter-widgets/controls",
          "model_name": "DescriptionStyleModel",
          "model_module_version": "1.5.0",
          "state": {
            "_model_module": "@jupyter-widgets/controls",
            "_model_module_version": "1.5.0",
            "_model_name": "DescriptionStyleModel",
            "_view_count": null,
            "_view_module": "@jupyter-widgets/base",
            "_view_module_version": "1.2.0",
            "_view_name": "StyleView",
            "description_width": ""
          }
        },
        "02d00aca3aaa4dbfae0040462e0818b2": {
          "model_module": "@jupyter-widgets/base",
          "model_name": "LayoutModel",
          "model_module_version": "1.2.0",
          "state": {
            "_model_module": "@jupyter-widgets/base",
            "_model_module_version": "1.2.0",
            "_model_name": "LayoutModel",
            "_view_count": null,
            "_view_module": "@jupyter-widgets/base",
            "_view_module_version": "1.2.0",
            "_view_name": "LayoutView",
            "align_content": null,
            "align_items": null,
            "align_self": null,
            "border": null,
            "bottom": null,
            "display": null,
            "flex": null,
            "flex_flow": null,
            "grid_area": null,
            "grid_auto_columns": null,
            "grid_auto_flow": null,
            "grid_auto_rows": null,
            "grid_column": null,
            "grid_gap": null,
            "grid_row": null,
            "grid_template_areas": null,
            "grid_template_columns": null,
            "grid_template_rows": null,
            "height": null,
            "justify_content": null,
            "justify_items": null,
            "left": null,
            "margin": null,
            "max_height": null,
            "max_width": null,
            "min_height": null,
            "min_width": null,
            "object_fit": null,
            "object_position": null,
            "order": null,
            "overflow": null,
            "overflow_x": null,
            "overflow_y": null,
            "padding": null,
            "right": null,
            "top": null,
            "visibility": null,
            "width": "20px"
          }
        },
        "2c8622a620fb4c899b2903b48c643dd5": {
          "model_module": "@jupyter-widgets/controls",
          "model_name": "ProgressStyleModel",
          "model_module_version": "1.5.0",
          "state": {
            "_model_module": "@jupyter-widgets/controls",
            "_model_module_version": "1.5.0",
            "_model_name": "ProgressStyleModel",
            "_view_count": null,
            "_view_module": "@jupyter-widgets/base",
            "_view_module_version": "1.2.0",
            "_view_name": "StyleView",
            "bar_color": null,
            "description_width": ""
          }
        },
        "a52caf3c94f0483c916aa67f4f5b10d4": {
          "model_module": "@jupyter-widgets/base",
          "model_name": "LayoutModel",
          "model_module_version": "1.2.0",
          "state": {
            "_model_module": "@jupyter-widgets/base",
            "_model_module_version": "1.2.0",
            "_model_name": "LayoutModel",
            "_view_count": null,
            "_view_module": "@jupyter-widgets/base",
            "_view_module_version": "1.2.0",
            "_view_name": "LayoutView",
            "align_content": null,
            "align_items": null,
            "align_self": null,
            "border": null,
            "bottom": null,
            "display": null,
            "flex": null,
            "flex_flow": null,
            "grid_area": null,
            "grid_auto_columns": null,
            "grid_auto_flow": null,
            "grid_auto_rows": null,
            "grid_column": null,
            "grid_gap": null,
            "grid_row": null,
            "grid_template_areas": null,
            "grid_template_columns": null,
            "grid_template_rows": null,
            "height": null,
            "justify_content": null,
            "justify_items": null,
            "left": null,
            "margin": null,
            "max_height": null,
            "max_width": null,
            "min_height": null,
            "min_width": null,
            "object_fit": null,
            "object_position": null,
            "order": null,
            "overflow": null,
            "overflow_x": null,
            "overflow_y": null,
            "padding": null,
            "right": null,
            "top": null,
            "visibility": null,
            "width": null
          }
        },
        "42b586ce0687422eada4586a59a09fdf": {
          "model_module": "@jupyter-widgets/controls",
          "model_name": "DescriptionStyleModel",
          "model_module_version": "1.5.0",
          "state": {
            "_model_module": "@jupyter-widgets/controls",
            "_model_module_version": "1.5.0",
            "_model_name": "DescriptionStyleModel",
            "_view_count": null,
            "_view_module": "@jupyter-widgets/base",
            "_view_module_version": "1.2.0",
            "_view_name": "StyleView",
            "description_width": ""
          }
        },
        "e51869f09151410696b1a62a2230fb8d": {
          "model_module": "@jupyter-widgets/controls",
          "model_name": "HBoxModel",
          "model_module_version": "1.5.0",
          "state": {
            "_dom_classes": [],
            "_model_module": "@jupyter-widgets/controls",
            "_model_module_version": "1.5.0",
            "_model_name": "HBoxModel",
            "_view_count": null,
            "_view_module": "@jupyter-widgets/controls",
            "_view_module_version": "1.5.0",
            "_view_name": "HBoxView",
            "box_style": "",
            "children": [
              "IPY_MODEL_d15f99949f324af88e59f4ee907e1bbf",
              "IPY_MODEL_2ba38efcf0984fa5b7a54ff30e90d2a1",
              "IPY_MODEL_d98885d99e0b4f2486b26e8b8c0341d7"
            ],
            "layout": "IPY_MODEL_bf148bb9ad864dea81e2e3e1f95a290f"
          }
        },
        "d15f99949f324af88e59f4ee907e1bbf": {
          "model_module": "@jupyter-widgets/controls",
          "model_name": "HTMLModel",
          "model_module_version": "1.5.0",
          "state": {
            "_dom_classes": [],
            "_model_module": "@jupyter-widgets/controls",
            "_model_module_version": "1.5.0",
            "_model_name": "HTMLModel",
            "_view_count": null,
            "_view_module": "@jupyter-widgets/controls",
            "_view_module_version": "1.5.0",
            "_view_name": "HTMLView",
            "description": "",
            "description_tooltip": null,
            "layout": "IPY_MODEL_743a961cde4d4c3ca3937ad414b388cf",
            "placeholder": "​",
            "style": "IPY_MODEL_bca0051600c94ce093b48bc50325b9a6",
            "value": "Fetching 1 files: 100%"
          }
        },
        "2ba38efcf0984fa5b7a54ff30e90d2a1": {
          "model_module": "@jupyter-widgets/controls",
          "model_name": "FloatProgressModel",
          "model_module_version": "1.5.0",
          "state": {
            "_dom_classes": [],
            "_model_module": "@jupyter-widgets/controls",
            "_model_module_version": "1.5.0",
            "_model_name": "FloatProgressModel",
            "_view_count": null,
            "_view_module": "@jupyter-widgets/controls",
            "_view_module_version": "1.5.0",
            "_view_name": "ProgressView",
            "bar_style": "success",
            "description": "",
            "description_tooltip": null,
            "layout": "IPY_MODEL_24176fa6f7334863bfb0c7b16e4a9ac1",
            "max": 1,
            "min": 0,
            "orientation": "horizontal",
            "style": "IPY_MODEL_b45806da282c43f390e3cc205f7a5db6",
            "value": 1
          }
        },
        "d98885d99e0b4f2486b26e8b8c0341d7": {
          "model_module": "@jupyter-widgets/controls",
          "model_name": "HTMLModel",
          "model_module_version": "1.5.0",
          "state": {
            "_dom_classes": [],
            "_model_module": "@jupyter-widgets/controls",
            "_model_module_version": "1.5.0",
            "_model_name": "HTMLModel",
            "_view_count": null,
            "_view_module": "@jupyter-widgets/controls",
            "_view_module_version": "1.5.0",
            "_view_name": "HTMLView",
            "description": "",
            "description_tooltip": null,
            "layout": "IPY_MODEL_2929ae8386c540f99261c628dbd9727b",
            "placeholder": "​",
            "style": "IPY_MODEL_8087c7a37ca0451bb7781076e905b4c8",
            "value": " 1/1 [00:00&lt;00:00, 91.79it/s]"
          }
        },
        "bf148bb9ad864dea81e2e3e1f95a290f": {
          "model_module": "@jupyter-widgets/base",
          "model_name": "LayoutModel",
          "model_module_version": "1.2.0",
          "state": {
            "_model_module": "@jupyter-widgets/base",
            "_model_module_version": "1.2.0",
            "_model_name": "LayoutModel",
            "_view_count": null,
            "_view_module": "@jupyter-widgets/base",
            "_view_module_version": "1.2.0",
            "_view_name": "LayoutView",
            "align_content": null,
            "align_items": null,
            "align_self": null,
            "border": null,
            "bottom": null,
            "display": null,
            "flex": null,
            "flex_flow": null,
            "grid_area": null,
            "grid_auto_columns": null,
            "grid_auto_flow": null,
            "grid_auto_rows": null,
            "grid_column": null,
            "grid_gap": null,
            "grid_row": null,
            "grid_template_areas": null,
            "grid_template_columns": null,
            "grid_template_rows": null,
            "height": null,
            "justify_content": null,
            "justify_items": null,
            "left": null,
            "margin": null,
            "max_height": null,
            "max_width": null,
            "min_height": null,
            "min_width": null,
            "object_fit": null,
            "object_position": null,
            "order": null,
            "overflow": null,
            "overflow_x": null,
            "overflow_y": null,
            "padding": null,
            "right": null,
            "top": null,
            "visibility": null,
            "width": null
          }
        },
        "743a961cde4d4c3ca3937ad414b388cf": {
          "model_module": "@jupyter-widgets/base",
          "model_name": "LayoutModel",
          "model_module_version": "1.2.0",
          "state": {
            "_model_module": "@jupyter-widgets/base",
            "_model_module_version": "1.2.0",
            "_model_name": "LayoutModel",
            "_view_count": null,
            "_view_module": "@jupyter-widgets/base",
            "_view_module_version": "1.2.0",
            "_view_name": "LayoutView",
            "align_content": null,
            "align_items": null,
            "align_self": null,
            "border": null,
            "bottom": null,
            "display": null,
            "flex": null,
            "flex_flow": null,
            "grid_area": null,
            "grid_auto_columns": null,
            "grid_auto_flow": null,
            "grid_auto_rows": null,
            "grid_column": null,
            "grid_gap": null,
            "grid_row": null,
            "grid_template_areas": null,
            "grid_template_columns": null,
            "grid_template_rows": null,
            "height": null,
            "justify_content": null,
            "justify_items": null,
            "left": null,
            "margin": null,
            "max_height": null,
            "max_width": null,
            "min_height": null,
            "min_width": null,
            "object_fit": null,
            "object_position": null,
            "order": null,
            "overflow": null,
            "overflow_x": null,
            "overflow_y": null,
            "padding": null,
            "right": null,
            "top": null,
            "visibility": null,
            "width": null
          }
        },
        "bca0051600c94ce093b48bc50325b9a6": {
          "model_module": "@jupyter-widgets/controls",
          "model_name": "DescriptionStyleModel",
          "model_module_version": "1.5.0",
          "state": {
            "_model_module": "@jupyter-widgets/controls",
            "_model_module_version": "1.5.0",
            "_model_name": "DescriptionStyleModel",
            "_view_count": null,
            "_view_module": "@jupyter-widgets/base",
            "_view_module_version": "1.2.0",
            "_view_name": "StyleView",
            "description_width": ""
          }
        },
        "24176fa6f7334863bfb0c7b16e4a9ac1": {
          "model_module": "@jupyter-widgets/base",
          "model_name": "LayoutModel",
          "model_module_version": "1.2.0",
          "state": {
            "_model_module": "@jupyter-widgets/base",
            "_model_module_version": "1.2.0",
            "_model_name": "LayoutModel",
            "_view_count": null,
            "_view_module": "@jupyter-widgets/base",
            "_view_module_version": "1.2.0",
            "_view_name": "LayoutView",
            "align_content": null,
            "align_items": null,
            "align_self": null,
            "border": null,
            "bottom": null,
            "display": null,
            "flex": null,
            "flex_flow": null,
            "grid_area": null,
            "grid_auto_columns": null,
            "grid_auto_flow": null,
            "grid_auto_rows": null,
            "grid_column": null,
            "grid_gap": null,
            "grid_row": null,
            "grid_template_areas": null,
            "grid_template_columns": null,
            "grid_template_rows": null,
            "height": null,
            "justify_content": null,
            "justify_items": null,
            "left": null,
            "margin": null,
            "max_height": null,
            "max_width": null,
            "min_height": null,
            "min_width": null,
            "object_fit": null,
            "object_position": null,
            "order": null,
            "overflow": null,
            "overflow_x": null,
            "overflow_y": null,
            "padding": null,
            "right": null,
            "top": null,
            "visibility": null,
            "width": null
          }
        },
        "b45806da282c43f390e3cc205f7a5db6": {
          "model_module": "@jupyter-widgets/controls",
          "model_name": "ProgressStyleModel",
          "model_module_version": "1.5.0",
          "state": {
            "_model_module": "@jupyter-widgets/controls",
            "_model_module_version": "1.5.0",
            "_model_name": "ProgressStyleModel",
            "_view_count": null,
            "_view_module": "@jupyter-widgets/base",
            "_view_module_version": "1.2.0",
            "_view_name": "StyleView",
            "bar_color": null,
            "description_width": ""
          }
        },
        "2929ae8386c540f99261c628dbd9727b": {
          "model_module": "@jupyter-widgets/base",
          "model_name": "LayoutModel",
          "model_module_version": "1.2.0",
          "state": {
            "_model_module": "@jupyter-widgets/base",
            "_model_module_version": "1.2.0",
            "_model_name": "LayoutModel",
            "_view_count": null,
            "_view_module": "@jupyter-widgets/base",
            "_view_module_version": "1.2.0",
            "_view_name": "LayoutView",
            "align_content": null,
            "align_items": null,
            "align_self": null,
            "border": null,
            "bottom": null,
            "display": null,
            "flex": null,
            "flex_flow": null,
            "grid_area": null,
            "grid_auto_columns": null,
            "grid_auto_flow": null,
            "grid_auto_rows": null,
            "grid_column": null,
            "grid_gap": null,
            "grid_row": null,
            "grid_template_areas": null,
            "grid_template_columns": null,
            "grid_template_rows": null,
            "height": null,
            "justify_content": null,
            "justify_items": null,
            "left": null,
            "margin": null,
            "max_height": null,
            "max_width": null,
            "min_height": null,
            "min_width": null,
            "object_fit": null,
            "object_position": null,
            "order": null,
            "overflow": null,
            "overflow_x": null,
            "overflow_y": null,
            "padding": null,
            "right": null,
            "top": null,
            "visibility": null,
            "width": null
          }
        },
        "8087c7a37ca0451bb7781076e905b4c8": {
          "model_module": "@jupyter-widgets/controls",
          "model_name": "DescriptionStyleModel",
          "model_module_version": "1.5.0",
          "state": {
            "_model_module": "@jupyter-widgets/controls",
            "_model_module_version": "1.5.0",
            "_model_name": "DescriptionStyleModel",
            "_view_count": null,
            "_view_module": "@jupyter-widgets/base",
            "_view_module_version": "1.2.0",
            "_view_name": "StyleView",
            "description_width": ""
          }
        },
        "559685fab4d6463d94cf21e0843c5ccc": {
          "model_module": "@jupyter-widgets/controls",
          "model_name": "HBoxModel",
          "model_module_version": "1.5.0",
          "state": {
            "_dom_classes": [],
            "_model_module": "@jupyter-widgets/controls",
            "_model_module_version": "1.5.0",
            "_model_name": "HBoxModel",
            "_view_count": null,
            "_view_module": "@jupyter-widgets/controls",
            "_view_module_version": "1.5.0",
            "_view_name": "HBoxView",
            "box_style": "",
            "children": [
              "IPY_MODEL_805807f53924480097f18546240d501a",
              "IPY_MODEL_1fb6cb22458c48169308df4186fd4333",
              "IPY_MODEL_a64f6fb6c1b4431a8bc0d12d26da8873"
            ],
            "layout": "IPY_MODEL_e09acc8e82644aeca5a9231e5952c0b9"
          }
        },
        "805807f53924480097f18546240d501a": {
          "model_module": "@jupyter-widgets/controls",
          "model_name": "HTMLModel",
          "model_module_version": "1.5.0",
          "state": {
            "_dom_classes": [],
            "_model_module": "@jupyter-widgets/controls",
            "_model_module_version": "1.5.0",
            "_model_name": "HTMLModel",
            "_view_count": null,
            "_view_module": "@jupyter-widgets/controls",
            "_view_module_version": "1.5.0",
            "_view_name": "HTMLView",
            "description": "",
            "description_tooltip": null,
            "layout": "IPY_MODEL_bb7ef268826046a992f39e74b666d09a",
            "placeholder": "​",
            "style": "IPY_MODEL_0af86bfcf8504bdf8cd40f9c442b26d4",
            "value": "Fetching 0 files: "
          }
        },
        "1fb6cb22458c48169308df4186fd4333": {
          "model_module": "@jupyter-widgets/controls",
          "model_name": "FloatProgressModel",
          "model_module_version": "1.5.0",
          "state": {
            "_dom_classes": [],
            "_model_module": "@jupyter-widgets/controls",
            "_model_module_version": "1.5.0",
            "_model_name": "FloatProgressModel",
            "_view_count": null,
            "_view_module": "@jupyter-widgets/controls",
            "_view_module_version": "1.5.0",
            "_view_name": "ProgressView",
            "bar_style": "success",
            "description": "",
            "description_tooltip": null,
            "layout": "IPY_MODEL_c407c253584d4fe79b99dca9790e28b2",
            "max": 1,
            "min": 0,
            "orientation": "horizontal",
            "style": "IPY_MODEL_23caf6a2df234937a9776c0e2f7fe3d7",
            "value": 0
          }
        },
        "a64f6fb6c1b4431a8bc0d12d26da8873": {
          "model_module": "@jupyter-widgets/controls",
          "model_name": "HTMLModel",
          "model_module_version": "1.5.0",
          "state": {
            "_dom_classes": [],
            "_model_module": "@jupyter-widgets/controls",
            "_model_module_version": "1.5.0",
            "_model_name": "HTMLModel",
            "_view_count": null,
            "_view_module": "@jupyter-widgets/controls",
            "_view_module_version": "1.5.0",
            "_view_name": "HTMLView",
            "description": "",
            "description_tooltip": null,
            "layout": "IPY_MODEL_e18d748f13d246599d07efaf18d0c1f0",
            "placeholder": "​",
            "style": "IPY_MODEL_22cd067e4143448798ecffa3c0182a97",
            "value": " 0/0 [00:00&lt;?, ?it/s]"
          }
        },
        "e09acc8e82644aeca5a9231e5952c0b9": {
          "model_module": "@jupyter-widgets/base",
          "model_name": "LayoutModel",
          "model_module_version": "1.2.0",
          "state": {
            "_model_module": "@jupyter-widgets/base",
            "_model_module_version": "1.2.0",
            "_model_name": "LayoutModel",
            "_view_count": null,
            "_view_module": "@jupyter-widgets/base",
            "_view_module_version": "1.2.0",
            "_view_name": "LayoutView",
            "align_content": null,
            "align_items": null,
            "align_self": null,
            "border": null,
            "bottom": null,
            "display": null,
            "flex": null,
            "flex_flow": null,
            "grid_area": null,
            "grid_auto_columns": null,
            "grid_auto_flow": null,
            "grid_auto_rows": null,
            "grid_column": null,
            "grid_gap": null,
            "grid_row": null,
            "grid_template_areas": null,
            "grid_template_columns": null,
            "grid_template_rows": null,
            "height": null,
            "justify_content": null,
            "justify_items": null,
            "left": null,
            "margin": null,
            "max_height": null,
            "max_width": null,
            "min_height": null,
            "min_width": null,
            "object_fit": null,
            "object_position": null,
            "order": null,
            "overflow": null,
            "overflow_x": null,
            "overflow_y": null,
            "padding": null,
            "right": null,
            "top": null,
            "visibility": null,
            "width": null
          }
        },
        "bb7ef268826046a992f39e74b666d09a": {
          "model_module": "@jupyter-widgets/base",
          "model_name": "LayoutModel",
          "model_module_version": "1.2.0",
          "state": {
            "_model_module": "@jupyter-widgets/base",
            "_model_module_version": "1.2.0",
            "_model_name": "LayoutModel",
            "_view_count": null,
            "_view_module": "@jupyter-widgets/base",
            "_view_module_version": "1.2.0",
            "_view_name": "LayoutView",
            "align_content": null,
            "align_items": null,
            "align_self": null,
            "border": null,
            "bottom": null,
            "display": null,
            "flex": null,
            "flex_flow": null,
            "grid_area": null,
            "grid_auto_columns": null,
            "grid_auto_flow": null,
            "grid_auto_rows": null,
            "grid_column": null,
            "grid_gap": null,
            "grid_row": null,
            "grid_template_areas": null,
            "grid_template_columns": null,
            "grid_template_rows": null,
            "height": null,
            "justify_content": null,
            "justify_items": null,
            "left": null,
            "margin": null,
            "max_height": null,
            "max_width": null,
            "min_height": null,
            "min_width": null,
            "object_fit": null,
            "object_position": null,
            "order": null,
            "overflow": null,
            "overflow_x": null,
            "overflow_y": null,
            "padding": null,
            "right": null,
            "top": null,
            "visibility": null,
            "width": null
          }
        },
        "0af86bfcf8504bdf8cd40f9c442b26d4": {
          "model_module": "@jupyter-widgets/controls",
          "model_name": "DescriptionStyleModel",
          "model_module_version": "1.5.0",
          "state": {
            "_model_module": "@jupyter-widgets/controls",
            "_model_module_version": "1.5.0",
            "_model_name": "DescriptionStyleModel",
            "_view_count": null,
            "_view_module": "@jupyter-widgets/base",
            "_view_module_version": "1.2.0",
            "_view_name": "StyleView",
            "description_width": ""
          }
        },
        "c407c253584d4fe79b99dca9790e28b2": {
          "model_module": "@jupyter-widgets/base",
          "model_name": "LayoutModel",
          "model_module_version": "1.2.0",
          "state": {
            "_model_module": "@jupyter-widgets/base",
            "_model_module_version": "1.2.0",
            "_model_name": "LayoutModel",
            "_view_count": null,
            "_view_module": "@jupyter-widgets/base",
            "_view_module_version": "1.2.0",
            "_view_name": "LayoutView",
            "align_content": null,
            "align_items": null,
            "align_self": null,
            "border": null,
            "bottom": null,
            "display": null,
            "flex": null,
            "flex_flow": null,
            "grid_area": null,
            "grid_auto_columns": null,
            "grid_auto_flow": null,
            "grid_auto_rows": null,
            "grid_column": null,
            "grid_gap": null,
            "grid_row": null,
            "grid_template_areas": null,
            "grid_template_columns": null,
            "grid_template_rows": null,
            "height": null,
            "justify_content": null,
            "justify_items": null,
            "left": null,
            "margin": null,
            "max_height": null,
            "max_width": null,
            "min_height": null,
            "min_width": null,
            "object_fit": null,
            "object_position": null,
            "order": null,
            "overflow": null,
            "overflow_x": null,
            "overflow_y": null,
            "padding": null,
            "right": null,
            "top": null,
            "visibility": null,
            "width": "20px"
          }
        },
        "23caf6a2df234937a9776c0e2f7fe3d7": {
          "model_module": "@jupyter-widgets/controls",
          "model_name": "ProgressStyleModel",
          "model_module_version": "1.5.0",
          "state": {
            "_model_module": "@jupyter-widgets/controls",
            "_model_module_version": "1.5.0",
            "_model_name": "ProgressStyleModel",
            "_view_count": null,
            "_view_module": "@jupyter-widgets/base",
            "_view_module_version": "1.2.0",
            "_view_name": "StyleView",
            "bar_color": null,
            "description_width": ""
          }
        },
        "e18d748f13d246599d07efaf18d0c1f0": {
          "model_module": "@jupyter-widgets/base",
          "model_name": "LayoutModel",
          "model_module_version": "1.2.0",
          "state": {
            "_model_module": "@jupyter-widgets/base",
            "_model_module_version": "1.2.0",
            "_model_name": "LayoutModel",
            "_view_count": null,
            "_view_module": "@jupyter-widgets/base",
            "_view_module_version": "1.2.0",
            "_view_name": "LayoutView",
            "align_content": null,
            "align_items": null,
            "align_self": null,
            "border": null,
            "bottom": null,
            "display": null,
            "flex": null,
            "flex_flow": null,
            "grid_area": null,
            "grid_auto_columns": null,
            "grid_auto_flow": null,
            "grid_auto_rows": null,
            "grid_column": null,
            "grid_gap": null,
            "grid_row": null,
            "grid_template_areas": null,
            "grid_template_columns": null,
            "grid_template_rows": null,
            "height": null,
            "justify_content": null,
            "justify_items": null,
            "left": null,
            "margin": null,
            "max_height": null,
            "max_width": null,
            "min_height": null,
            "min_width": null,
            "object_fit": null,
            "object_position": null,
            "order": null,
            "overflow": null,
            "overflow_x": null,
            "overflow_y": null,
            "padding": null,
            "right": null,
            "top": null,
            "visibility": null,
            "width": null
          }
        },
        "22cd067e4143448798ecffa3c0182a97": {
          "model_module": "@jupyter-widgets/controls",
          "model_name": "DescriptionStyleModel",
          "model_module_version": "1.5.0",
          "state": {
            "_model_module": "@jupyter-widgets/controls",
            "_model_module_version": "1.5.0",
            "_model_name": "DescriptionStyleModel",
            "_view_count": null,
            "_view_module": "@jupyter-widgets/base",
            "_view_module_version": "1.2.0",
            "_view_name": "StyleView",
            "description_width": ""
          }
        }
      }
    }
  },
  "cells": [
    {
      "cell_type": "markdown",
      "metadata": {
        "id": "view-in-github",
        "colab_type": "text"
      },
      "source": [
        "<a href=\"https://colab.research.google.com/github/nursenakok/hugging-face-beginner-guide/blob/main/huggingface_pipeline_ipynb_adl%C4%B1_not_defterinin_kopyas%C4%B1.ipynb\" target=\"_parent\"><img src=\"https://colab.research.google.com/assets/colab-badge.svg\" alt=\"Open In Colab\"/></a>"
      ]
    },
    {
      "cell_type": "markdown",
      "source": [
        "**Huggingface Pipeline**\n"
      ],
      "metadata": {
        "id": "J8uSb59amzmq"
      }
    },
    {
      "cell_type": "code",
      "execution_count": 1,
      "metadata": {
        "id": "_VdPS_fFmq33"
      },
      "outputs": [],
      "source": [
        "from transformers import pipeline"
      ]
    },
    {
      "cell_type": "markdown",
      "source": [
        "*Sentiment Analysis*"
      ],
      "metadata": {
        "id": "hvkL6BchnQMP"
      }
    },
    {
      "cell_type": "code",
      "source": [
        "classifier = pipeline (\"sentiment-analysis\")"
      ],
      "metadata": {
        "colab": {
          "base_uri": "https://localhost:8080/"
        },
        "id": "0G6rflrDnXfu",
        "outputId": "c7e609a6-fa9d-43c9-85b7-ecfe6068804c"
      },
      "execution_count": 2,
      "outputs": [
        {
          "output_type": "stream",
          "name": "stderr",
          "text": [
            "No model was supplied, defaulted to distilbert/distilbert-base-uncased-finetuned-sst-2-english and revision 714eb0f (https://huggingface.co/distilbert/distilbert-base-uncased-finetuned-sst-2-english).\n",
            "Using a pipeline without specifying a model name and revision in production is not recommended.\n",
            "/usr/local/lib/python3.12/dist-packages/huggingface_hub/utils/_auth.py:94: UserWarning: \n",
            "The secret `HF_TOKEN` does not exist in your Colab secrets.\n",
            "To authenticate with the Hugging Face Hub, create a token in your settings tab (https://huggingface.co/settings/tokens), set it as secret in your Google Colab and restart your session.\n",
            "You will be able to reuse this secret in all of your notebooks.\n",
            "Please note that authentication is recommended but still optional to access public models or datasets.\n",
            "  warnings.warn(\n",
            "Device set to use cpu\n"
          ]
        }
      ]
    },
    {
      "cell_type": "code",
      "source": [
        "classifier (\"Today is amazing, everything is going perfectly.\")"
      ],
      "metadata": {
        "colab": {
          "base_uri": "https://localhost:8080/"
        },
        "id": "slFH3aHAniJH",
        "outputId": "b01efc7b-523d-4cb7-9cd2-98d0ea0936c5"
      },
      "execution_count": 3,
      "outputs": [
        {
          "output_type": "execute_result",
          "data": {
            "text/plain": [
              "[{'label': 'POSITIVE', 'score': 0.9998838901519775}]"
            ]
          },
          "metadata": {},
          "execution_count": 3
        }
      ]
    },
    {
      "cell_type": "code",
      "source": [
        "classifier (\"This book was boring and hard to follow.\")"
      ],
      "metadata": {
        "colab": {
          "base_uri": "https://localhost:8080/"
        },
        "id": "F-gh4ES-niMP",
        "outputId": "b0076689-a4df-407b-f5ac-a9ff77089f3c"
      },
      "execution_count": 4,
      "outputs": [
        {
          "output_type": "execute_result",
          "data": {
            "text/plain": [
              "[{'label': 'NEGATIVE', 'score': 0.9997809529304504}]"
            ]
          },
          "metadata": {},
          "execution_count": 4
        }
      ]
    },
    {
      "cell_type": "code",
      "source": [
        "classifier ([\"I’m proud of my team’s success.\",\"Waiting in traffic for hours was really frustrating\"]) #You can analyze more sentences using comma and square brackets"
      ],
      "metadata": {
        "colab": {
          "base_uri": "https://localhost:8080/"
        },
        "id": "HcYYwGfb0X9A",
        "outputId": "8ab98e1f-6e94-4e16-ba0d-0da7e750384b"
      },
      "execution_count": 5,
      "outputs": [
        {
          "output_type": "execute_result",
          "data": {
            "text/plain": [
              "[{'label': 'POSITIVE', 'score': 0.9998726844787598},\n",
              " {'label': 'NEGATIVE', 'score': 0.9981923699378967}]"
            ]
          },
          "metadata": {},
          "execution_count": 5
        }
      ]
    },
    {
      "cell_type": "markdown",
      "source": [
        "*Named Entity Recognition (NER)*\n"
      ],
      "metadata": {
        "id": "0jdK6dbOo9p7"
      }
    },
    {
      "cell_type": "code",
      "source": [
        "ner = pipeline(\"ner\", model = \"dslim/bert-base-NER\")"
      ],
      "metadata": {
        "colab": {
          "base_uri": "https://localhost:8080/"
        },
        "id": "cjG69gKepHZ3",
        "outputId": "3083eca9-4fe1-4d13-fff2-b3c2474c6988"
      },
      "execution_count": 6,
      "outputs": [
        {
          "output_type": "stream",
          "name": "stderr",
          "text": [
            "Some weights of the model checkpoint at dslim/bert-base-NER were not used when initializing BertForTokenClassification: ['bert.pooler.dense.bias', 'bert.pooler.dense.weight']\n",
            "- This IS expected if you are initializing BertForTokenClassification from the checkpoint of a model trained on another task or with another architecture (e.g. initializing a BertForSequenceClassification model from a BertForPreTraining model).\n",
            "- This IS NOT expected if you are initializing BertForTokenClassification from the checkpoint of a model that you expect to be exactly identical (initializing a BertForSequenceClassification model from a BertForSequenceClassification model).\n",
            "Device set to use cpu\n"
          ]
        }
      ]
    },
    {
      "cell_type": "code",
      "source": [
        "ner (\"Lulu works at Google in New York City and travels to Paris often for conferences.\")"
      ],
      "metadata": {
        "colab": {
          "base_uri": "https://localhost:8080/"
        },
        "collapsed": true,
        "id": "Pt2faz44pvPY",
        "outputId": "17865060-d697-4c23-d747-be9ff08f7761"
      },
      "execution_count": 7,
      "outputs": [
        {
          "output_type": "execute_result",
          "data": {
            "text/plain": [
              "[{'entity': 'B-PER',\n",
              "  'score': np.float32(0.9935028),\n",
              "  'index': 1,\n",
              "  'word': 'Lulu',\n",
              "  'start': 0,\n",
              "  'end': 4},\n",
              " {'entity': 'B-ORG',\n",
              "  'score': np.float32(0.998192),\n",
              "  'index': 4,\n",
              "  'word': 'Google',\n",
              "  'start': 14,\n",
              "  'end': 20},\n",
              " {'entity': 'B-LOC',\n",
              "  'score': np.float32(0.99966145),\n",
              "  'index': 6,\n",
              "  'word': 'New',\n",
              "  'start': 24,\n",
              "  'end': 27},\n",
              " {'entity': 'I-LOC',\n",
              "  'score': np.float32(0.99947923),\n",
              "  'index': 7,\n",
              "  'word': 'York',\n",
              "  'start': 28,\n",
              "  'end': 32},\n",
              " {'entity': 'I-LOC',\n",
              "  'score': np.float32(0.99962795),\n",
              "  'index': 8,\n",
              "  'word': 'City',\n",
              "  'start': 33,\n",
              "  'end': 37},\n",
              " {'entity': 'B-LOC',\n",
              "  'score': np.float32(0.99974924),\n",
              "  'index': 12,\n",
              "  'word': 'Paris',\n",
              "  'start': 53,\n",
              "  'end': 58}]"
            ]
          },
          "metadata": {},
          "execution_count": 7
        }
      ]
    },
    {
      "cell_type": "code",
      "source": [
        "ner (\"Apple was founded by Steve Jobs and Steve Wozniak in Cupertino, California.\")"
      ],
      "metadata": {
        "collapsed": true,
        "colab": {
          "base_uri": "https://localhost:8080/"
        },
        "id": "RcqgXZv21cAV",
        "outputId": "842154b4-d89e-4b1d-d1b9-fdb714ed06fc"
      },
      "execution_count": 8,
      "outputs": [
        {
          "output_type": "execute_result",
          "data": {
            "text/plain": [
              "[{'entity': 'B-ORG',\n",
              "  'score': np.float32(0.997163),\n",
              "  'index': 1,\n",
              "  'word': 'Apple',\n",
              "  'start': 0,\n",
              "  'end': 5},\n",
              " {'entity': 'B-PER',\n",
              "  'score': np.float32(0.99975854),\n",
              "  'index': 5,\n",
              "  'word': 'Steve',\n",
              "  'start': 21,\n",
              "  'end': 26},\n",
              " {'entity': 'I-PER',\n",
              "  'score': np.float32(0.99959546),\n",
              "  'index': 6,\n",
              "  'word': 'Job',\n",
              "  'start': 27,\n",
              "  'end': 30},\n",
              " {'entity': 'I-PER',\n",
              "  'score': np.float32(0.99759394),\n",
              "  'index': 7,\n",
              "  'word': '##s',\n",
              "  'start': 30,\n",
              "  'end': 31},\n",
              " {'entity': 'B-PER',\n",
              "  'score': np.float32(0.99979454),\n",
              "  'index': 9,\n",
              "  'word': 'Steve',\n",
              "  'start': 36,\n",
              "  'end': 41},\n",
              " {'entity': 'I-PER',\n",
              "  'score': np.float32(0.9996977),\n",
              "  'index': 10,\n",
              "  'word': 'W',\n",
              "  'start': 42,\n",
              "  'end': 43},\n",
              " {'entity': 'I-PER',\n",
              "  'score': np.float32(0.9991748),\n",
              "  'index': 11,\n",
              "  'word': '##oz',\n",
              "  'start': 43,\n",
              "  'end': 45},\n",
              " {'entity': 'I-PER',\n",
              "  'score': np.float32(0.99947447),\n",
              "  'index': 12,\n",
              "  'word': '##nia',\n",
              "  'start': 45,\n",
              "  'end': 48},\n",
              " {'entity': 'I-PER',\n",
              "  'score': np.float32(0.9884963),\n",
              "  'index': 13,\n",
              "  'word': '##k',\n",
              "  'start': 48,\n",
              "  'end': 49},\n",
              " {'entity': 'B-LOC',\n",
              "  'score': np.float32(0.99836236),\n",
              "  'index': 15,\n",
              "  'word': 'Cup',\n",
              "  'start': 53,\n",
              "  'end': 56},\n",
              " {'entity': 'I-LOC',\n",
              "  'score': np.float32(0.9968292),\n",
              "  'index': 16,\n",
              "  'word': '##ert',\n",
              "  'start': 56,\n",
              "  'end': 59},\n",
              " {'entity': 'I-LOC',\n",
              "  'score': np.float32(0.9992101),\n",
              "  'index': 17,\n",
              "  'word': '##ino',\n",
              "  'start': 59,\n",
              "  'end': 62},\n",
              " {'entity': 'B-LOC',\n",
              "  'score': np.float32(0.99930656),\n",
              "  'index': 19,\n",
              "  'word': 'California',\n",
              "  'start': 64,\n",
              "  'end': 74}]"
            ]
          },
          "metadata": {},
          "execution_count": 8
        }
      ]
    },
    {
      "cell_type": "markdown",
      "source": [
        "*Zero-Shot Classification*"
      ],
      "metadata": {
        "id": "Jbxqk9vHqYG1"
      }
    },
    {
      "cell_type": "code",
      "source": [
        "zeroshotclassifier = pipeline(\"zero-shot-classification\", model= \"facebook/bart-large-mnli\")"
      ],
      "metadata": {
        "colab": {
          "base_uri": "https://localhost:8080/"
        },
        "id": "owFsLXcNpvTZ",
        "outputId": "a54057f7-cfd1-4c3a-aa97-0acf4c7ddcbc"
      },
      "execution_count": 9,
      "outputs": [
        {
          "output_type": "stream",
          "name": "stderr",
          "text": [
            "Device set to use cpu\n"
          ]
        }
      ]
    },
    {
      "cell_type": "code",
      "source": [
        "sequence_to_classify = \"The movie was thrilling and full of unexpected twists\" #This is the text you want to classify\n",
        "candidate_labels = [\"comedy\", \"horror\", \"action\", \"romance\", \"thriller\"]       #These are the categories (or \"labels\") you want the model to choose from.\n",
        "zeroshotclassifier(sequence_to_classify, candidate_labels)                     #Predict which of the candidate labels best fits the text, without any additional training."
      ],
      "metadata": {
        "colab": {
          "base_uri": "https://localhost:8080/"
        },
        "id": "knT0coHWpvWM",
        "outputId": "b35d1601-5a79-4def-f63e-4f430dc92a4d"
      },
      "execution_count": 10,
      "outputs": [
        {
          "output_type": "execute_result",
          "data": {
            "text/plain": [
              "{'sequence': 'The movie was thrilling and full of unexpected twists',\n",
              " 'labels': ['thriller', 'action', 'romance', 'comedy', 'horror'],\n",
              " 'scores': [0.798922061920166,\n",
              "  0.1696939468383789,\n",
              "  0.012478862889111042,\n",
              "  0.01220847200602293,\n",
              "  0.006696658208966255]}"
            ]
          },
          "metadata": {},
          "execution_count": 10
        }
      ]
    },
    {
      "cell_type": "code",
      "source": [
        "sequence_to_classify = \"I love making chocolate cake on weekends\"\n",
        "candidate_labels = [\"cooking\", \"travel\", \"sports\", \"technology\"]\n",
        "zeroshotclassifier(sequence_to_classify, candidate_labels)"
      ],
      "metadata": {
        "colab": {
          "base_uri": "https://localhost:8080/"
        },
        "id": "wY6WYyATpvYy",
        "outputId": "84904a85-1c19-40b0-9929-e23c91a6c528"
      },
      "execution_count": 11,
      "outputs": [
        {
          "output_type": "execute_result",
          "data": {
            "text/plain": [
              "{'sequence': 'I love making chocolate cake on weekends',\n",
              " 'labels': ['cooking', 'technology', 'travel', 'sports'],\n",
              " 'scores': [0.9911786317825317,\n",
              "  0.0034642494283616543,\n",
              "  0.0028420626185834408,\n",
              "  0.002515070838853717]}"
            ]
          },
          "metadata": {},
          "execution_count": 11
        }
      ]
    },
    {
      "cell_type": "markdown",
      "source": [
        "*Question Answering*"
      ],
      "metadata": {
        "id": "cH3chJgXrmel"
      }
    },
    {
      "cell_type": "code",
      "source": [
        "qa_pipeline = pipeline(\"question-answering\")"
      ],
      "metadata": {
        "colab": {
          "base_uri": "https://localhost:8080/",
          "height": 185,
          "referenced_widgets": [
            "a221faf77fb64803a71fa64a550dbcdb",
            "f5f7b815176d4f47b36c16217114a1d6",
            "1c4786d02b4c47f58d854ff66270cef1",
            "97b0f549afe647d18538b2083204523d",
            "b11c8171278f4a3080f60d7cafc67e8d",
            "6cfc8fd95bd048b0a620b891bb376da2",
            "0adb40baa9b74297b7b18e31d3105e20",
            "02d00aca3aaa4dbfae0040462e0818b2",
            "2c8622a620fb4c899b2903b48c643dd5",
            "a52caf3c94f0483c916aa67f4f5b10d4",
            "42b586ce0687422eada4586a59a09fdf",
            "e51869f09151410696b1a62a2230fb8d",
            "d15f99949f324af88e59f4ee907e1bbf",
            "2ba38efcf0984fa5b7a54ff30e90d2a1",
            "d98885d99e0b4f2486b26e8b8c0341d7",
            "bf148bb9ad864dea81e2e3e1f95a290f",
            "743a961cde4d4c3ca3937ad414b388cf",
            "bca0051600c94ce093b48bc50325b9a6",
            "24176fa6f7334863bfb0c7b16e4a9ac1",
            "b45806da282c43f390e3cc205f7a5db6",
            "2929ae8386c540f99261c628dbd9727b",
            "8087c7a37ca0451bb7781076e905b4c8",
            "559685fab4d6463d94cf21e0843c5ccc",
            "805807f53924480097f18546240d501a",
            "1fb6cb22458c48169308df4186fd4333",
            "a64f6fb6c1b4431a8bc0d12d26da8873",
            "e09acc8e82644aeca5a9231e5952c0b9",
            "bb7ef268826046a992f39e74b666d09a",
            "0af86bfcf8504bdf8cd40f9c442b26d4",
            "c407c253584d4fe79b99dca9790e28b2",
            "23caf6a2df234937a9776c0e2f7fe3d7",
            "e18d748f13d246599d07efaf18d0c1f0",
            "22cd067e4143448798ecffa3c0182a97"
          ]
        },
        "id": "0qzA-rSRpvbW",
        "outputId": "46053d2d-2eb6-4d58-8e05-0c4265454714"
      },
      "execution_count": 12,
      "outputs": [
        {
          "output_type": "stream",
          "name": "stderr",
          "text": [
            "No model was supplied, defaulted to distilbert/distilbert-base-cased-distilled-squad and revision 564e9b5 (https://huggingface.co/distilbert/distilbert-base-cased-distilled-squad).\n",
            "Using a pipeline without specifying a model name and revision in production is not recommended.\n"
          ]
        },
        {
          "output_type": "display_data",
          "data": {
            "text/plain": [
              "Fetching 0 files: 0it [00:00, ?it/s]"
            ],
            "application/vnd.jupyter.widget-view+json": {
              "version_major": 2,
              "version_minor": 0,
              "model_id": "a221faf77fb64803a71fa64a550dbcdb"
            }
          },
          "metadata": {}
        },
        {
          "output_type": "display_data",
          "data": {
            "text/plain": [
              "Fetching 1 files:   0%|          | 0/1 [00:00<?, ?it/s]"
            ],
            "application/vnd.jupyter.widget-view+json": {
              "version_major": 2,
              "version_minor": 0,
              "model_id": "e51869f09151410696b1a62a2230fb8d"
            }
          },
          "metadata": {}
        },
        {
          "output_type": "display_data",
          "data": {
            "text/plain": [
              "Fetching 0 files: 0it [00:00, ?it/s]"
            ],
            "application/vnd.jupyter.widget-view+json": {
              "version_major": 2,
              "version_minor": 0,
              "model_id": "559685fab4d6463d94cf21e0843c5ccc"
            }
          },
          "metadata": {}
        },
        {
          "output_type": "stream",
          "name": "stderr",
          "text": [
            "Device set to use cpu\n"
          ]
        }
      ]
    },
    {
      "cell_type": "code",
      "source": [
        "context = \"Hugging Face is a company that develops tools for natural language processing.\"\n",
        "question = \"What does Hugging Face develop?\"\n",
        "\n",
        "result = qa_pipeline(question=question, context=context)\n",
        "print(result)\n"
      ],
      "metadata": {
        "colab": {
          "base_uri": "https://localhost:8080/"
        },
        "id": "izejRFshtBhC",
        "outputId": "a3f31a7a-4ad0-4c4e-d368-316ce21284af"
      },
      "execution_count": 13,
      "outputs": [
        {
          "output_type": "stream",
          "name": "stdout",
          "text": [
            "{'score': 0.47802838683128357, 'start': 40, 'end': 77, 'answer': 'tools for natural language processing'}\n"
          ]
        }
      ]
    },
    {
      "cell_type": "code",
      "source": [
        "context = \"Python is a popular programming language created by Guido van Rossum and first released in 1991.\"\n",
        "question = \"Who created Python?\"\n",
        "\n",
        "result = qa_pipeline(question=question, context=context)\n",
        "print(result)\n"
      ],
      "metadata": {
        "colab": {
          "base_uri": "https://localhost:8080/"
        },
        "id": "ILkXYEiu3Joh",
        "outputId": "1dbdc3e4-de2f-4df7-dc17-7bcf942a3489"
      },
      "execution_count": 14,
      "outputs": [
        {
          "output_type": "stream",
          "name": "stdout",
          "text": [
            "{'score': 0.9977194763305306, 'start': 52, 'end': 68, 'answer': 'Guido van Rossum'}\n"
          ]
        }
      ]
    },
    {
      "cell_type": "markdown",
      "source": [
        "*Text Generation*"
      ],
      "metadata": {
        "id": "ouk_aOwk3b_a"
      }
    },
    {
      "cell_type": "code",
      "source": [
        "text_gen = pipeline(\"text-generation\")"
      ],
      "metadata": {
        "colab": {
          "base_uri": "https://localhost:8080/"
        },
        "id": "m5YqpATU3vCB",
        "outputId": "21833dad-9413-48ca-a61a-8339b880c9dd"
      },
      "execution_count": 15,
      "outputs": [
        {
          "output_type": "stream",
          "name": "stderr",
          "text": [
            "No model was supplied, defaulted to openai-community/gpt2 and revision 607a30d (https://huggingface.co/openai-community/gpt2).\n",
            "Using a pipeline without specifying a model name and revision in production is not recommended.\n",
            "Device set to use cpu\n"
          ]
        }
      ]
    },
    {
      "cell_type": "code",
      "source": [
        "text_gen (\"Once upon a time in a small village,\")\n"
      ],
      "metadata": {
        "colab": {
          "base_uri": "https://localhost:8080/"
        },
        "id": "t9aUE0l_4XnS",
        "outputId": "656d8732-ea8f-47ad-adcc-3070b4b2f2a4"
      },
      "execution_count": 16,
      "outputs": [
        {
          "output_type": "stream",
          "name": "stderr",
          "text": [
            "Setting `pad_token_id` to `eos_token_id`:50256 for open-end generation.\n"
          ]
        },
        {
          "output_type": "execute_result",
          "data": {
            "text/plain": [
              "[{'generated_text': 'Once upon a time in a small village, a man, who had brought the small village with him, had left his home and went to the house of a man who was staying there, and there he found a man, who was in the house, who was standing in front of him, and his hand was in his pocket, and he had been killed; and he had beaten him, and he had shot him. And now, he went to the house, and he saw a man standing there, and his hand was in his pocket, and he had shot him. And when he saw that this man had been killed, he cried out, \"What did I do to you?\"\\n\\nSo the man, who had killed this man, said, \"O my lord, you have killed my son. You have killed my son.\"\\n\\nAnd so the man said, \"O my lord, you have killed my son, and you have killed my son.\" And so the man said, \"O my lord, you have killed my son, and you have killed my son. Then I saw that your son was killed, and I said, \"O my lord, you have killed my son. You have killed my son.\" And he said, \"O my lord, you have killed my son,'}]"
            ]
          },
          "metadata": {},
          "execution_count": 16
        }
      ]
    },
    {
      "cell_type": "markdown",
      "source": [
        "*Summarization*"
      ],
      "metadata": {
        "id": "x6cCSBCD6QZr"
      }
    },
    {
      "cell_type": "code",
      "source": [
        "sum = pipeline(\"summarization\")"
      ],
      "metadata": {
        "colab": {
          "base_uri": "https://localhost:8080/"
        },
        "id": "i2rRJ5wK6Un9",
        "outputId": "7d6af1e0-10a8-4cfb-edb2-57d93bae548a"
      },
      "execution_count": 17,
      "outputs": [
        {
          "output_type": "stream",
          "name": "stderr",
          "text": [
            "No model was supplied, defaulted to sshleifer/distilbart-cnn-12-6 and revision a4f8f3e (https://huggingface.co/sshleifer/distilbart-cnn-12-6).\n",
            "Using a pipeline without specifying a model name and revision in production is not recommended.\n",
            "Device set to use cpu\n"
          ]
        }
      ]
    },
    {
      "cell_type": "code",
      "source": [
        "sum(\n",
        "    \"\"\"\n",
        "    Over the past decade, the landscape of education in Europe has shifted significantly. Traditional liberal arts programs, once the cornerstone of many universities,\n",
        "    have seen a decline in enrollment, while courses in digital technology, data analytics, and artificial intelligence have surged in popularity. This trend reflects a\n",
        "    growing demand for graduates with skills aligned to rapidly evolving job markets. Despite the increasing emphasis on technology, there is concern among educators that\n",
        "    critical thinking, creativity, and humanities knowledge are being neglected. Countries like Germany and the Netherlands have managed to balance modern technical education\n",
        "    with strong foundational programs in arts and sciences, ensuring a well-rounded curriculum. Meanwhile, some institutions struggle to adapt, risking graduates who are\n",
        "    technically proficient but lack broader analytical and communication skills.\n",
        "     \"\"\"\n",
        ")"
      ],
      "metadata": {
        "colab": {
          "base_uri": "https://localhost:8080/"
        },
        "id": "xKlaVaUg6ZrT",
        "outputId": "6c4640e0-87fe-45d4-8f38-44923362e486"
      },
      "execution_count": 18,
      "outputs": [
        {
          "output_type": "execute_result",
          "data": {
            "text/plain": [
              "[{'summary_text': ' Traditional liberal arts programs in Europe have seen a decline in enrollment . Digital technology, data analytics, and artificial intelligence have surged in popularity . Germany and the Netherlands have managed to balance modern technical education with strong foundational programs in arts and sciences . Some institutions struggle to adapt, risking graduates who are technically proficient but lack broader analytical and communication skills .'}]"
            ]
          },
          "metadata": {},
          "execution_count": 18
        }
      ]
    },
    {
      "cell_type": "markdown",
      "source": [
        "*Fill Mask*"
      ],
      "metadata": {
        "id": "t0VkTKRb8iQ2"
      }
    },
    {
      "cell_type": "code",
      "source": [
        "mask_is = pipeline(\"fill-mask\", model=\"bert-base-uncased\")"
      ],
      "metadata": {
        "colab": {
          "base_uri": "https://localhost:8080/"
        },
        "id": "6Y081VG18sh2",
        "outputId": "491e19e9-b007-433e-b365-9e538cb23ae0"
      },
      "execution_count": 19,
      "outputs": [
        {
          "output_type": "stream",
          "name": "stderr",
          "text": [
            "Some weights of the model checkpoint at bert-base-uncased were not used when initializing BertForMaskedLM: ['bert.pooler.dense.bias', 'bert.pooler.dense.weight', 'cls.seq_relationship.bias', 'cls.seq_relationship.weight']\n",
            "- This IS expected if you are initializing BertForMaskedLM from the checkpoint of a model trained on another task or with another architecture (e.g. initializing a BertForSequenceClassification model from a BertForPreTraining model).\n",
            "- This IS NOT expected if you are initializing BertForMaskedLM from the checkpoint of a model that you expect to be exactly identical (initializing a BertForSequenceClassification model from a BertForSequenceClassification model).\n",
            "Device set to use cpu\n"
          ]
        }
      ]
    },
    {
      "cell_type": "code",
      "source": [
        "mask_is(\"She went to the [MASK] to buy some fruits.\", top_k=3)"
      ],
      "metadata": {
        "colab": {
          "base_uri": "https://localhost:8080/"
        },
        "id": "nhnPFpCV9Akg",
        "outputId": "fa52177b-bd78-4bba-bdc2-0c2538de62f6"
      },
      "execution_count": 20,
      "outputs": [
        {
          "output_type": "execute_result",
          "data": {
            "text/plain": [
              "[{'score': 0.4741755723953247,\n",
              "  'token': 3006,\n",
              "  'token_str': 'market',\n",
              "  'sequence': 'she went to the market to buy some fruits.'},\n",
              " {'score': 0.311168909072876,\n",
              "  'token': 3573,\n",
              "  'token_str': 'store',\n",
              "  'sequence': 'she went to the store to buy some fruits.'},\n",
              " {'score': 0.03655417636036873,\n",
              "  'token': 4497,\n",
              "  'token_str': 'shop',\n",
              "  'sequence': 'she went to the shop to buy some fruits.'}]"
            ]
          },
          "metadata": {},
          "execution_count": 20
        }
      ]
    },
    {
      "cell_type": "code",
      "source": [
        "mask_is(\"Lulu is very [MASK] when it comes to solving problems.\", top_k=2)"
      ],
      "metadata": {
        "colab": {
          "base_uri": "https://localhost:8080/"
        },
        "id": "SJ4rgoJE9Vhb",
        "outputId": "d21acd53-6e1d-4070-d2e2-88393b79c29f"
      },
      "execution_count": 21,
      "outputs": [
        {
          "output_type": "execute_result",
          "data": {
            "text/plain": [
              "[{'score': 0.06873378157615662,\n",
              "  'token': 5541,\n",
              "  'token_str': 'creative',\n",
              "  'sequence': 'lulu is very creative when it comes to solving problems.'},\n",
              " {'score': 0.04578307271003723,\n",
              "  'token': 9414,\n",
              "  'token_str': 'intelligent',\n",
              "  'sequence': 'lulu is very intelligent when it comes to solving problems.'}]"
            ]
          },
          "metadata": {},
          "execution_count": 21
        }
      ]
    }
  ]
}