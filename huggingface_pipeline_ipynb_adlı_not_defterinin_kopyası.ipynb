{
  "nbformat": 4,
  "nbformat_minor": 0,
  "metadata": {
    "colab": {
      "provenance": [],
      "authorship_tag": "ABX9TyNS7I39aZOVgcecNjCsEx/s",
      "include_colab_link": true
    },
    "kernelspec": {
      "name": "python3",
      "display_name": "Python 3"
    },
    "language_info": {
      "name": "python"
    }
  },
  "cells": [
    {
      "cell_type": "markdown",
      "metadata": {
        "id": "view-in-github",
        "colab_type": "text"
      },
      "source": [
        "<a href=\"https://colab.research.google.com/github/nursenakok/hugging-face-beginner-guide/blob/main/huggingface_pipeline_ipynb_adl%C4%B1_not_defterinin_kopyas%C4%B1.ipynb\" target=\"_parent\"><img src=\"https://colab.research.google.com/assets/colab-badge.svg\" alt=\"Open In Colab\"/></a>"
      ]
    },
    {
      "cell_type": "markdown",
      "source": [
        "**Huggingface Pipeline**\n"
      ],
      "metadata": {
        "id": "J8uSb59amzmq"
      }
    },
    {
      "cell_type": "code",
      "execution_count": null,
      "metadata": {
        "id": "_VdPS_fFmq33"
      },
      "outputs": [],
      "source": [
        "from transformers import pipeline"
      ]
    },
    {
      "cell_type": "markdown",
      "source": [
        "*Sentiment Analysis*"
      ],
      "metadata": {
        "id": "hvkL6BchnQMP"
      }
    },
    {
      "cell_type": "code",
      "source": [
        "classifier = pipeline (\"sentiment-analysis\")"
      ],
      "metadata": {
        "id": "0G6rflrDnXfu"
      },
      "execution_count": null,
      "outputs": []
    },
    {
      "cell_type": "code",
      "source": [
        "classifier (\"Today is amazing, everything is going perfectly.\")"
      ],
      "metadata": {
        "id": "slFH3aHAniJH"
      },
      "execution_count": null,
      "outputs": []
    },
    {
      "cell_type": "code",
      "source": [
        "classifier (\"This book was boring and hard to follow.\")"
      ],
      "metadata": {
        "id": "F-gh4ES-niMP"
      },
      "execution_count": null,
      "outputs": []
    },
    {
      "cell_type": "code",
      "source": [
        "classifier ([\"I’m proud of my team’s success.\",\"Waiting in traffic for hours was really frustrating\"]) #You can analyze more sentences using comma and square brackets"
      ],
      "metadata": {
        "id": "HcYYwGfb0X9A"
      },
      "execution_count": null,
      "outputs": []
    },
    {
      "cell_type": "markdown",
      "source": [
        "*Named Entity Recognition (NER)*\n"
      ],
      "metadata": {
        "id": "0jdK6dbOo9p7"
      }
    },
    {
      "cell_type": "code",
      "source": [
        "ner = pipeline(\"ner\", model = \"dslim/bert-base-NER\")"
      ],
      "metadata": {
        "id": "cjG69gKepHZ3"
      },
      "execution_count": null,
      "outputs": []
    },
    {
      "cell_type": "code",
      "source": [
        "ner (\"Lulu works at Google in New York City and travels to Paris often for conferences.\")"
      ],
      "metadata": {
        "collapsed": true,
        "id": "Pt2faz44pvPY"
      },
      "execution_count": null,
      "outputs": []
    },
    {
      "cell_type": "code",
      "source": [
        "ner (\"Apple was founded by Steve Jobs and Steve Wozniak in Cupertino, California.\")"
      ],
      "metadata": {
        "collapsed": true,
        "id": "RcqgXZv21cAV"
      },
      "execution_count": null,
      "outputs": []
    },
    {
      "cell_type": "markdown",
      "source": [
        "*Zero-Shot Classification*"
      ],
      "metadata": {
        "id": "Jbxqk9vHqYG1"
      }
    },
    {
      "cell_type": "code",
      "source": [
        "zeroshotclassifier = pipeline(\"zero-shot-classification\", model= \"facebook/bart-large-mnli\")"
      ],
      "metadata": {
        "id": "owFsLXcNpvTZ"
      },
      "execution_count": null,
      "outputs": []
    },
    {
      "cell_type": "code",
      "source": [
        "sequence_to_classify = \"The movie was thrilling and full of unexpected twists\" #This is the text you want to classify\n",
        "candidate_labels = [\"comedy\", \"horror\", \"action\", \"romance\", \"thriller\"]       #These are the categories (or \"labels\") you want the model to choose from.\n",
        "zeroshotclassifier(sequence_to_classify, candidate_labels)                     #Predict which of the candidate labels best fits the text, without any additional training."
      ],
      "metadata": {
        "id": "knT0coHWpvWM"
      },
      "execution_count": null,
      "outputs": []
    },
    {
      "cell_type": "code",
      "source": [
        "sequence_to_classify = \"I love making chocolate cake on weekends\"\n",
        "candidate_labels = [\"cooking\", \"travel\", \"sports\", \"technology\"]\n",
        "zeroshotclassifier(sequence_to_classify, candidate_labels)"
      ],
      "metadata": {
        "id": "wY6WYyATpvYy"
      },
      "execution_count": null,
      "outputs": []
    },
    {
      "cell_type": "markdown",
      "source": [
        "*Question Answering*"
      ],
      "metadata": {
        "id": "cH3chJgXrmel"
      }
    },
    {
      "cell_type": "code",
      "source": [
        "qa_pipeline = pipeline(\"question-answering\")"
      ],
      "metadata": {
        "id": "0qzA-rSRpvbW"
      },
      "execution_count": null,
      "outputs": []
    },
    {
      "cell_type": "code",
      "source": [
        "context = \"Hugging Face is a company that develops tools for natural language processing.\"\n",
        "question = \"What does Hugging Face develop?\"\n",
        "\n",
        "result = qa_pipeline(question=question, context=context)\n",
        "print(result)\n"
      ],
      "metadata": {
        "id": "izejRFshtBhC"
      },
      "execution_count": null,
      "outputs": []
    },
    {
      "cell_type": "code",
      "source": [
        "context = \"Python is a popular programming language created by Guido van Rossum and first released in 1991.\"\n",
        "question = \"Who created Python?\"\n",
        "\n",
        "result = qa_pipeline(question=question, context=context)\n",
        "print(result)\n"
      ],
      "metadata": {
        "id": "ILkXYEiu3Joh"
      },
      "execution_count": null,
      "outputs": []
    },
    {
      "cell_type": "markdown",
      "source": [
        "*Text Generation*"
      ],
      "metadata": {
        "id": "ouk_aOwk3b_a"
      }
    },
    {
      "cell_type": "code",
      "source": [
        "text_gen = pipeline(\"text-generation\")"
      ],
      "metadata": {
        "id": "m5YqpATU3vCB"
      },
      "execution_count": null,
      "outputs": []
    },
    {
      "cell_type": "code",
      "source": [
        "text_gen (\"Once upon a time in a small village,\")\n"
      ],
      "metadata": {
        "id": "t9aUE0l_4XnS"
      },
      "execution_count": null,
      "outputs": []
    },
    {
      "cell_type": "markdown",
      "source": [
        "*Summarization*"
      ],
      "metadata": {
        "id": "x6cCSBCD6QZr"
      }
    },
    {
      "cell_type": "code",
      "source": [
        "sum = pipeline(\"summarization\")"
      ],
      "metadata": {
        "id": "i2rRJ5wK6Un9"
      },
      "execution_count": null,
      "outputs": []
    },
    {
      "cell_type": "code",
      "source": [
        "sum(\n",
        "    \"\"\"\n",
        "    Over the past decade, the landscape of education in Europe has shifted significantly. Traditional liberal arts programs, once the cornerstone of many universities,\n",
        "    have seen a decline in enrollment, while courses in digital technology, data analytics, and artificial intelligence have surged in popularity. This trend reflects a\n",
        "    growing demand for graduates with skills aligned to rapidly evolving job markets. Despite the increasing emphasis on technology, there is concern among educators that\n",
        "    critical thinking, creativity, and humanities knowledge are being neglected. Countries like Germany and the Netherlands have managed to balance modern technical education\n",
        "    with strong foundational programs in arts and sciences, ensuring a well-rounded curriculum. Meanwhile, some institutions struggle to adapt, risking graduates who are\n",
        "    technically proficient but lack broader analytical and communication skills.\n",
        "     \"\"\"\n",
        ")"
      ],
      "metadata": {
        "id": "xKlaVaUg6ZrT"
      },
      "execution_count": null,
      "outputs": []
    },
    {
      "cell_type": "markdown",
      "source": [
        "*Fill Mask*"
      ],
      "metadata": {
        "id": "t0VkTKRb8iQ2"
      }
    },
    {
      "cell_type": "code",
      "source": [
        "mask_is = pipeline(\"fill-mask\", model=\"bert-base-uncased\")"
      ],
      "metadata": {
        "id": "6Y081VG18sh2"
      },
      "execution_count": null,
      "outputs": []
    },
    {
      "cell_type": "code",
      "source": [
        "mask_is(\"She went to the [MASK] to buy some fruits.\", top_k=3)"
      ],
      "metadata": {
        "id": "nhnPFpCV9Akg"
      },
      "execution_count": null,
      "outputs": []
    },
    {
      "cell_type": "code",
      "source": [
        "mask_is(\"Lulu is very [MASK] when it comes to solving problems.\", top_k=2)"
      ],
      "metadata": {
        "id": "SJ4rgoJE9Vhb"
      },
      "execution_count": null,
      "outputs": []
    }
  ]
}